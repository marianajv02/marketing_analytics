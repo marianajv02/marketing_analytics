{
 "cells": [
  {
   "cell_type": "code",
   "execution_count": 3,
   "id": "b8734b57",
   "metadata": {},
   "outputs": [],
   "source": [
    "import matplotlib.pyplot as plt\n",
    "import numpy as np\n",
    "from shiny import App, render, ui\n",
    "\n",
    "app_ui = ui.page_fluid(\n",
    "    ui.layout_sidebar(\n",
    "        ui.panel_sidebar(\n",
    "            ui.input_slider(\"n\", \"N\", 0, 100, 20),\n",
    "        ),\n",
    "        ui.panel_main(\n",
    "            ui.output_plot(\"histogram\"),\n",
    "        ),\n",
    "    ),\n",
    ")\n",
    "\n",
    "\n",
    "def server(input, output, session):\n",
    "    @output\n",
    "    @render.plot(alt=\"A histogram\")\n",
    "    def histogram():\n",
    "        np.random.seed(19680801)\n",
    "        x = 100 + 15 * np.random.randn(437)\n",
    "        plt.hist(x, input.n(), density=True)\n"
   ]
  },
  {
   "cell_type": "code",
   "execution_count": null,
   "id": "0b384edf",
   "metadata": {},
   "outputs": [],
   "source": []
  }
 ],
 "metadata": {
  "kernelspec": {
   "display_name": "Python 3 (ipykernel)",
   "language": "python",
   "name": "python3"
  },
  "language_info": {
   "codemirror_mode": {
    "name": "ipython",
    "version": 3
   },
   "file_extension": ".py",
   "mimetype": "text/x-python",
   "name": "python",
   "nbconvert_exporter": "python",
   "pygments_lexer": "ipython3",
   "version": "3.9.12"
  }
 },
 "nbformat": 4,
 "nbformat_minor": 5
}
